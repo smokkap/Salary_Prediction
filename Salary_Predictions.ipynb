{
 "cells": [
  {
   "cell_type": "markdown",
   "metadata": {},
   "source": [
    "# Salary Predictions Based on Job Descriptions"
   ]
  },
  {
   "cell_type": "markdown",
   "metadata": {},
   "source": [
    "# Part 1 - DEFINE\n",
    "### ---- 1 Define the problem ----\n",
    "\n",
    "Problem Statement: Create a Model that helps in predicting the salaries of a job postiong based on different parameters provided like Job description,"
   ]
  },
  {
   "cell_type": "code",
   "execution_count": 1,
   "metadata": {},
   "outputs": [
    {
     "data": {
      "text/html": [
       "<style>.container { width:100% !important; }</style>"
      ],
      "text/plain": [
       "<IPython.core.display.HTML object>"
      ]
     },
     "metadata": {},
     "output_type": "display_data"
    },
    {
     "data": {
      "text/html": [
       "<style>.output_result { max-width:100% !important; }</style>"
      ],
      "text/plain": [
       "<IPython.core.display.HTML object>"
      ]
     },
     "metadata": {},
     "output_type": "display_data"
    }
   ],
   "source": [
    "#customizing the Notebook screen\n",
    "from IPython.core.display import display, HTML\n",
    "display(HTML(\"<style>.container { width:100% !important; }</style>\"))\n",
    "display(HTML(\"<style>.output_result { max-width:100% !important; }</style>\"))\n",
    "# display(HTML(\"<style>.prompt { display:none !important; }</style>\"))"
   ]
  },
  {
   "cell_type": "code",
   "execution_count": 2,
   "metadata": {},
   "outputs": [],
   "source": [
    "#Importing supporting Libraries\n",
    "import pandas as pd\n",
    "import numpy as np\n",
    "import matplotlib.pyplot as plt\n",
    "from sklearn.ensemble import RandomForestRegressor, GradientBoostingRegressor\n",
    "from sklearn.model_selection import cross_val_score\n",
    "from sklearn.utils import shuffle\n",
    "from sklearn.metrics import mean_squared_error\n",
    "from sklearn.linear_model import LinearRegression\n",
    "from sklearn.preprocessing import LabelEncoder\n",
    "from sklearn.pipeline import make_pipeline\n",
    "from sklearn.decomposition import PCA\n",
    "from sklearn.preprocessing import StandardScaler\n",
    "import joblib "
   ]
  },
  {
   "cell_type": "markdown",
   "metadata": {},
   "source": [
    "## Part 2 - DISCOVER -\n",
    "\n",
    "### ---2. Load and 3. Clean the Data done in the data object creation---\n",
    " Read the data  by creating a data object from the Load Model Data class which inlcude the cleaning procedures and the "
   ]
  },
  {
   "cell_type": "markdown",
   "metadata": {},
   "source": [
    "# Definition of Data class\n",
    "    Initialize the data object by passing in the following inputs:\n",
    "        train_feature_file  -input csv that have all features for training the model\n",
    "        train_target_file -data of the target class\n",
    "        test_file - test data csv file\n",
    "        cat_cols - categorical columns present in the data\n",
    "        num_cols - Numerical columns present in the data\n",
    "        target_col - target column as in the target variable\n",
    "        id_col - unique identifier of the row.\n",
    "        \n",
    "    _ before the function name indicates the private function\n",
    "    @static method before a function definition means that the function can be called with out class object being initialized.\n",
    "    __init__ initializes all the parameters used in the class."
   ]
  },
  {
   "cell_type": "code",
   "execution_count": 3,
   "metadata": {},
   "outputs": [],
   "source": [
    "class LoadModelData:\n",
    "    \n",
    "    def __init__(self, train_feature_file, train_target_file, test_file, cat_cols, num_cols, target_col, id_col):\n",
    "        '''create train and test dataframe'''\n",
    "        self.cat_cols = list(cat_cols)\n",
    "        self.num_cols = list(num_cols)\n",
    "        self.feature_cols = cat_cols + num_cols\n",
    "        self.target_col = target_col\n",
    "        self.id_col = id_col\n",
    "        \n",
    "        #Initialize the variables in the class.\n",
    "        self.label_encoders = {}\n",
    "        self.train_df = self._create_train_df(train_feature_file, train_target_file) #Preprocess is True by default and encodes the labels.\n",
    "        self.test_df = self._create_test_df(test_file)\n",
    "    \n",
    "    def label_encode_data(self, df, cols):\n",
    "        '''creates one label encoder for each column in the data object instance'''\n",
    "        for col in cols:\n",
    "            if col in self.label_encoders:\n",
    "                #if label encoder already exits for col, use it\n",
    "                self._label_encoder_col(df, col, self.label_encoders[col])\n",
    "            else:\n",
    "                self._label_encoder_col(df, col)\n",
    "    \n",
    "    def inverse_encode_data(self, df, cols):\n",
    "        '''does inverse label encoding'''\n",
    "        for col in cols:\n",
    "            if col in self.label_encoders:\n",
    "                self._inverse_label_encoder_col(df, col)  \n",
    "            else:\n",
    "                raise ValueError(\"Label Encoder not defined\")\n",
    "\n",
    "    def _label_encoder_col(self, df, col, le=None):\n",
    "        '''label encodes data'''\n",
    "        if le:\n",
    "            df[col] = le.transform(df[col])\n",
    "        else:\n",
    "            le = LabelEncoder()\n",
    "            le.fit(df[col])\n",
    "            df[col] = le.transform(df[col])\n",
    "            self.label_encoders[col] = le\n",
    "        \n",
    "    def _inverse_label_encoder_col(self, df, col):\n",
    "        '''inverse label encodes data'''\n",
    "        le = self.label_encoders[col]\n",
    "        df[col] = le.inverse_transform(df[col])\n",
    "        \n",
    "    #create the train df with the label encoding\n",
    "    def _create_train_df(self, train_feature_df, train_target_df, preprocess=True, label_encode=True):\n",
    "        '''loads and merges training data features and targets, preprocesses data, encodes data'''\n",
    "        train_feature_df = self._load_data(train_feature_file)\n",
    "        train_target_df = self._load_data(train_target_file)\n",
    "        train_df = self._merge_dfs(train_feature_df, train_target_df)\n",
    "        if preprocess:\n",
    "            train_df = self._clean_data(train_df)\n",
    "            train_df = self._shuffle_data(train_df)\n",
    "        if label_encode:\n",
    "            self.label_encode_data(train_df, self.cat_cols)\n",
    "        return train_df\n",
    "    \n",
    "    #create the test df with the label encoding\n",
    "    def _create_test_df(self, test_file, label_encode=True):\n",
    "        '''loads and label encodes test data'''\n",
    "        test_df = self._load_data(test_file)\n",
    "        if label_encode:\n",
    "            self.label_encode_data(test_df, self.cat_cols)\n",
    "        return test_df\n",
    "    \n",
    "    #to load the data from csv    \n",
    "    def _load_data(self, file):\n",
    "        return pd.read_csv(file)\n",
    "    \n",
    "    #merge two dataframes provided as input, some parameters are initialized with the default values,others need to be passed explicitly\n",
    "    def _merge_dfs(self, df1, df2, key=None, left_index=False, right_index=False):\n",
    "        return pd.merge(left=df1, right=df2, how='inner', on=key, left_index=left_index, right_index=right_index)\n",
    "    \n",
    "    # Clean the target variable for null values\n",
    "    def _clean_data(self, df):\n",
    "        '''remove rows that contain salary <= 0 or duplicate job IDs'''\n",
    "        df = df.drop_duplicates(subset='jobId')\n",
    "        df = df[df.salary>0]\n",
    "        return df\n",
    "    \n",
    "    # Shuffles data and resets the index of the input dataframe\n",
    "    def _shuffle_data(self, df):\n",
    "         return shuffle(df).reset_index()"
   ]
  },
  {
   "cell_type": "markdown",
   "metadata": {},
   "source": [
    "### ---- 4 Explore the data (EDA) ----"
   ]
  },
  {
   "cell_type": "markdown",
   "metadata": {},
   "source": [
    "# Definition of Feature Generator class\n",
    "Initialize the Feature generator object by passing in the following inputs:\n",
    "        data -  data object created\n",
    "        \n",
    "    _ before the function name indicates the private function\n",
    "    @static method before a function definition means that the function can be called with out class object being initialized.\n",
    "    __init__ initializes all the parameters used in the class."
   ]
  },
  {
   "cell_type": "code",
   "execution_count": 4,
   "metadata": {},
   "outputs": [],
   "source": [
    "class StatisticalFeatureGenerator:\n",
    "    def __init__(self, data):\n",
    "        '''initializes class and creates groupby object for data'''\n",
    "        self.data = data\n",
    "        #able to generate features for new companies, but less accurate\n",
    "        #self.cat_cols = ['jobType', 'degree', 'major', 'industry']\n",
    "        self.cat_cols = data.cat_cols\n",
    "        self.groups = data.train_df.groupby(self.cat_cols)\n",
    "        \n",
    "    def add_grouped_statistics(self):\n",
    "        '''adds groupis tics  statistics to data stored in data object'''\n",
    "        #get group stats\n",
    "        group_stats_df = self._calculate_group_stats()\n",
    "        group_stats_df.reset_index(inplace=True)\n",
    "  \n",
    "        #merge derived columns to original df\n",
    "        self.data.train_df = self._merge_new_cols(self.data.train_df, group_stats_df, self.cat_cols, fillna=True)\n",
    "        self.data.test_df = self._merge_new_cols(self.data.test_df, group_stats_df, self.cat_cols, fillna=True)      \n",
    "        \n",
    "        #update column lists\n",
    "        group_stats_cols = ['group_mean', 'group_max', 'group_min', 'group_std', 'group_median']\n",
    "        self._extend_column_lists(self.data, cat_cols=group_stats_cols)  \n",
    "        \n",
    "    def _calculate_group_stats(self):\n",
    "        '''calculates group statistics'''\n",
    "        target_col = self.data.target_col\n",
    "        group_stats_df = pd.DataFrame({'group_mean': self.groups[target_col].mean()})\n",
    "        group_stats_df['group_max'] = self.groups[target_col].max()\n",
    "        group_stats_df['group_min'] = self.groups[target_col].min()\n",
    "        group_stats_df['group_std'] = self.groups[target_col].std()\n",
    "        group_stats_df['group_median'] = self.groups[target_col].median()\n",
    "        return group_stats_df\n",
    "        \n",
    "    def _merge_new_cols(self, df, new_cols_df, keys, fillna=False):\n",
    "        '''merges engineered features with original df'''\n",
    "        df = pd.merge(df, new_cols_df, on=keys, how='left')\n",
    "        if fillna:\n",
    "            df.fillna(0, inplace=True)\n",
    "        return df\n",
    "        \n",
    "    def _extend_column_lists(self, data, cat_cols=[], num_cols=[]):\n",
    "        '''addes engineered feature cols to data col lists'''\n",
    "        data.num_cols.extend(num_cols)\n",
    "        data.cat_cols.extend(cat_cols)\n",
    "        data.feature_cols.extend(num_cols + cat_cols)"
   ]
  },
  {
   "cell_type": "markdown",
   "metadata": {},
   "source": [
    "### ---- 5 Establish a baseline ----\n",
    "We choose the best performing model as the one that have the lease Mean Square Error(MSE), For this we generate different models ,cross validate the results to calculate the mertics and compare the results and chose the one that matches our expectations.\n"
   ]
  },
  {
   "cell_type": "markdown",
   "metadata": {},
   "source": [
    "# Definition of Model Container class"
   ]
  },
  {
   "cell_type": "code",
   "execution_count": 5,
   "metadata": {},
   "outputs": [],
   "source": [
    "class GenerateModels:\n",
    "    def __init__(self, models=[]):\n",
    "        '''initializes model list and dicts as empty. We can later add models using the add model function'''\n",
    "        self.models = models\n",
    "        self.best_model = None\n",
    "        self.predictions = None\n",
    "        self.mean_mse = {}\n",
    "        \n",
    "    def add_model_to_evaluate(self, model):\n",
    "        self.models.append(model)\n",
    "\n",
    "    def cross_validate_model(self, data, k=3, num_procs=1):\n",
    "        '''cross validate models using given data'''\n",
    "        feature_df = data.train_df[data.feature_cols]\n",
    "        target_df = data.train_df[data.target_col]\n",
    "        for model in self.models:\n",
    "            neg_mse = cross_val_score(model, feature_df, target_df, cv=k, n_jobs=num_procs, scoring='neg_mean_squared_error')\n",
    "            self.mean_mse[model] = -1.0*np.mean(neg_mse)\n",
    "    \n",
    "    def select_best_performing_model(self):\n",
    "        '''select model with lowest mse'''\n",
    "        self.best_model = min(self.mean_mse, key=self.mean_mse.get)\n",
    "        \n",
    "    def fit_best_model(self, features, targets):\n",
    "        '''fits best model'''\n",
    "        self.best_model.fit(features, targets)\n",
    "    \n",
    "    def predict_from_best_model(self, features):\n",
    "        '''scores features using best model'''\n",
    "        self.predictions = self.best_model.predict(features)\n",
    "        \n",
    "    def save_results(self):\n",
    "        try:\n",
    "            with open('Model.txt', 'w') as file:\n",
    "                file.write(str(self.best_model))\n",
    "            models.get_feature_importance(models.best_model, data.feature_cols).to_csv('Feature_Importance_Calculations.csv') \n",
    "            np.savetxt('prediction_from_test_set.csv', self.predictions, delimiter=',')\n",
    "            return 'Files Saved'\n",
    "        except Exception as e:\n",
    "            return \"Error Saving Results\"+str(e)\n",
    "        \n",
    "    def save_model(self):\n",
    "        try:\n",
    "            joblib.dump(self.best_model, 'Best_Model.pkl') \n",
    "            return \"Model Saved\"\n",
    "        except Exception as e:\n",
    "            return \"Error saving Model:\"+str(e)\n",
    "    \n",
    "    @staticmethod\n",
    "    def get_feature_importance(model, cols):\n",
    "        '''retrieves and sorts feature importances'''\n",
    "        if hasattr(model, 'feature_importances_'):\n",
    "            importances = model.feature_importances_\n",
    "            feature_importances = pd.DataFrame({'feature':cols, 'importance':importances})\n",
    "            feature_importances.sort_values(by='importance', ascending=False, inplace=True)\n",
    "            #set index to 'feature'\n",
    "            feature_importances.set_index('feature', inplace=True, drop=True)\n",
    "            return feature_importances\n",
    "        else:\n",
    "            #some models don't have feature_importances_\n",
    "            return \"Feature importances do not exist for given model\"\n",
    "\n",
    "    def print_summary(self):\n",
    "        '''prints summary of models, best model, and feature importance'''\n",
    "        print('\\nModel Summaries:\\n')\n",
    "        for model in models.mean_mse:\n",
    "            print('\\n', model, '- MSE:', models.mean_mse[model])\n",
    "        print('\\nBest Model:\\n', models.best_model)\n",
    "        print('\\nMSE of Best Model\\n', models.mean_mse[models.best_model])\n",
    "        print('\\nFeature Importances\\n', models.get_feature_importance(models.best_model, data.feature_cols))\n",
    "\n",
    "        feature_importances = self.get_feature_importance(models.best_model, data.feature_cols)\n",
    "        feature_importances.plot.bar()\n",
    "        plt.show()"
   ]
  },
  {
   "cell_type": "markdown",
   "metadata": {},
   "source": [
    "Initializing the parameters to load the data using the data object created in the next step"
   ]
  },
  {
   "cell_type": "code",
   "execution_count": 6,
   "metadata": {},
   "outputs": [],
   "source": [
    "#define number of processors to use for parallel runs\n",
    "num_procs = 4\n",
    "#set verbose level for models\n",
    "verbose_lvl = 0\n",
    "#define input file paths\n",
    "train_feature_file = 'data/train_features.csv'\n",
    "train_target_file = 'data/train_salaries.csv'\n",
    "test_file = 'data/test_features.csv'\n",
    "#define variables that are needed for initializing the data object\n",
    "cat_cols = ['jobType', 'degree', 'major', 'industry'] # 'companyId' -May affect predictions when we add new companies\n",
    "num_cols = ['yearsExperience', 'milesFromMetropolis']\n",
    "#target variables\n",
    "target_col = 'salary'\n",
    "#unique row identifier\n",
    "id_col = 'jobId'\n",
    "#turn feature engineering on/off - to initialize the feature generator class.\n",
    "engineer_features = True"
   ]
  },
  {
   "cell_type": "markdown",
   "metadata": {},
   "source": [
    "### Create Data object\n",
    "\n",
    "At this step, data is preprocessed, categorical labels were encoded and ready for analysis"
   ]
  },
  {
   "cell_type": "code",
   "execution_count": 7,
   "metadata": {},
   "outputs": [],
   "source": [
    "data = LoadModelData(train_feature_file, train_target_file, test_file, cat_cols, num_cols, target_col, id_col)"
   ]
  },
  {
   "cell_type": "markdown",
   "metadata": {},
   "source": [
    "Generate the statistical features measure values for the target column"
   ]
  },
  {
   "cell_type": "code",
   "execution_count": 8,
   "metadata": {},
   "outputs": [],
   "source": [
    "if engineer_features:\n",
    "    feature_generator = StatisticalFeatureGenerator(data)\n",
    "    feature_generator.add_grouped_statistics()"
   ]
  },
  {
   "cell_type": "code",
   "execution_count": 9,
   "metadata": {},
   "outputs": [],
   "source": [
    "# print(data.test_df)"
   ]
  },
  {
   "cell_type": "markdown",
   "metadata": {},
   "source": [
    "# Create model container object  and add models to it"
   ]
  },
  {
   "cell_type": "code",
   "execution_count": 10,
   "metadata": {},
   "outputs": [],
   "source": [
    "#create model container\n",
    "models = GenerateModels()\n",
    "\n",
    "#create models -- hyperparameter tuning already done by hand for each model\n",
    "models.add_model_to_evaluate(LinearRegression())\n",
    "models.add_model_to_evaluate(RandomForestRegressor(n_estimators=60, n_jobs=num_procs, max_depth=15, min_samples_split=80, \\\n",
    "                                       max_features=8, verbose=verbose_lvl))\n",
    "models.add_model_to_evaluate(GradientBoostingRegressor(n_estimators=40, max_depth=7, loss='ls', verbose=verbose_lvl))"
   ]
  },
  {
   "cell_type": "markdown",
   "metadata": {},
   "source": [
    "# Cross validate models, then select, fit, and score test data with best model"
   ]
  },
  {
   "cell_type": "code",
   "execution_count": 11,
   "metadata": {},
   "outputs": [],
   "source": [
    "models.cross_validate_model(data, k=2, num_procs=num_procs)"
   ]
  },
  {
   "cell_type": "code",
   "execution_count": 12,
   "metadata": {},
   "outputs": [],
   "source": [
    "models.select_best_performing_model()"
   ]
  },
  {
   "cell_type": "code",
   "execution_count": 13,
   "metadata": {},
   "outputs": [],
   "source": [
    "models.fit_best_model(data.train_df[data.feature_cols], data.train_df[data.target_col])"
   ]
  },
  {
   "cell_type": "code",
   "execution_count": 14,
   "metadata": {},
   "outputs": [],
   "source": [
    "models.predict_from_best_model(data.test_df[data.feature_cols])"
   ]
  },
  {
   "cell_type": "markdown",
   "metadata": {},
   "source": [
    "# Results"
   ]
  },
  {
   "cell_type": "code",
   "execution_count": 15,
   "metadata": {},
   "outputs": [
    {
     "data": {
      "text/plain": [
       "'Model Saved'"
      ]
     },
     "execution_count": 15,
     "metadata": {},
     "output_type": "execute_result"
    }
   ],
   "source": [
    "models.save_model()"
   ]
  },
  {
   "cell_type": "code",
   "execution_count": 16,
   "metadata": {},
   "outputs": [
    {
     "data": {
      "text/plain": [
       "'Files Saved'"
      ]
     },
     "execution_count": 16,
     "metadata": {},
     "output_type": "execute_result"
    }
   ],
   "source": [
    "models.save_results()"
   ]
  },
  {
   "cell_type": "code",
   "execution_count": 17,
   "metadata": {},
   "outputs": [
    {
     "name": "stdout",
     "output_type": "stream",
     "text": [
      "GradientBoostingRegressor(max_depth=7, n_estimators=40)\n"
     ]
    }
   ],
   "source": [
    "print(joblib.load('Best_Model.pkl'))"
   ]
  },
  {
   "cell_type": "code",
   "execution_count": 18,
   "metadata": {},
   "outputs": [
    {
     "name": "stdout",
     "output_type": "stream",
     "text": [
      "\n",
      "Model Summaries:\n",
      "\n",
      "\n",
      " LinearRegression() - MSE: 370.9590587345574\n",
      "\n",
      " RandomForestRegressor(max_depth=15, max_features=8, min_samples_split=80,\n",
      "                      n_estimators=60, n_jobs=4) - MSE: 359.0367602471418\n",
      "\n",
      " GradientBoostingRegressor(max_depth=7, n_estimators=40) - MSE: 355.3109428431121\n",
      "\n",
      "Best Model:\n",
      " GradientBoostingRegressor(max_depth=7, n_estimators=40)\n",
      "\n",
      "MSE of Best Model\n",
      " 355.3109428431121\n",
      "\n",
      "Feature Importances\n",
      "                      importance\n",
      "feature                        \n",
      "group_mean             0.654970\n",
      "yearsExperience        0.185714\n",
      "milesFromMetropolis    0.128653\n",
      "group_median           0.023768\n",
      "group_min              0.005461\n",
      "group_std              0.001245\n",
      "group_max              0.000158\n",
      "jobType                0.000013\n",
      "major                  0.000009\n",
      "degree                 0.000005\n",
      "industry               0.000004\n"
     ]
    },
    {
     "data": {
      "image/png": "[encoded data removed]",
      "text/plain": [
       "<Figure size 432x288 with 1 Axes>"
      ]
     },
     "metadata": {
      "needs_background": "light"
     },
     "output_type": "display_data"
    }
   ],
   "source": [
    "models.print_summary()"
   ]
  },
  {
   "cell_type": "code",
   "execution_count": null,
   "metadata": {},
   "outputs": [],
   "source": []
  }
 ],
 "metadata": {
  "kernelspec": {
   "display_name": "Python 3",
   "language": "python",
   "name": "python3"
  },
  "language_info": {
   "codemirror_mode": {
    "name": "ipython",
    "version": 3
   },
   "file_extension": ".py",
   "mimetype": "text/x-python",
   "name": "python",
   "nbconvert_exporter": "python",
   "pygments_lexer": "ipython3",
   "version": "3.8.5"
  }
 },
 "nbformat": 4,
 "nbformat_minor": 4
}
